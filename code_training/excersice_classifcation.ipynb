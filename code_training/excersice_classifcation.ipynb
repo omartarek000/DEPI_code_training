{
 "cells": [
  {
   "cell_type": "code",
   "execution_count": 1,
   "metadata": {},
   "outputs": [],
   "source": [
    "# making a classifer that achieves an accuracy of 97% on the MNIST dataset\n",
    "import pandas as pd\n",
    "import numpy as np\n",
    "import matplotlib.pyplot as plt\n",
    "import seaborn as sns\n"
   ]
  },
  {
   "cell_type": "code",
   "execution_count": 2,
   "metadata": {},
   "outputs": [
    {
     "name": "stdout",
     "output_type": "stream",
     "text": [
      "(70000, 784) (70000,)\n"
     ]
    }
   ],
   "source": [
    "from sklearn.datasets import fetch_openml\n",
    "from sklearn.model_selection import train_test_split\n",
    "from sklearn.neighbors import KNeighborsClassifier\n",
    "\n",
    "# load the MNIST dataset\n",
    "mnist = fetch_openml('mnist_784')\n",
    "X, y = mnist['data'], mnist['target']\n",
    "print(X.shape, y.shape)\n",
    "\n",
    "\n",
    "\n"
   ]
  },
  {
   "cell_type": "code",
   "execution_count": 3,
   "metadata": {},
   "outputs": [],
   "source": [
    "from sklearn.metrics import accuracy_score\n",
    "# split the data into training and testing sets\n",
    "X_train, X_test, y_train, y_test = train_test_split(X, y, test_size=0.2, random_state=42)\n",
    "\n"
   ]
  },
  {
   "cell_type": "code",
   "execution_count": 4,
   "metadata": {},
   "outputs": [
    {
     "name": "stderr",
     "output_type": "stream",
     "text": [
      "C:\\Users\\Gaming Store\\AppData\\Local\\Temp\\ipykernel_8740\\1458858196.py:1: DeprecationWarning: Please import `shift` from the `scipy.ndimage` namespace; the `scipy.ndimage.interpolation` namespace is deprecated and will be removed in SciPy 2.0.0.\n",
      "  from scipy.ndimage.interpolation import shift\n"
     ]
    },
    {
     "name": "stdout",
     "output_type": "stream",
     "text": [
      "(784,)\n"
     ]
    },
    {
     "data": {
      "image/png": "[encoded data removed]",
      "text/plain": [
       "<Figure size 1200x300 with 3 Axes>"
      ]
     },
     "metadata": {},
     "output_type": "display_data"
    }
   ],
   "source": [
    "from scipy.ndimage.interpolation import shift\n",
    "def shift_image(image, dx, dy):\n",
    "    image = image.reshape((28, 28))\n",
    "    shifted_image = shift(image, [dy, dx], cval=0, mode=\"constant\")\n",
    "    return shifted_image.reshape([-1])\n",
    "\n",
    "\n",
    "image = X_train.iloc[1000,:]\n",
    "print(image.shape)\n",
    "image = image.to_numpy()\n",
    "shifted_image_down = shift_image(image, 0, 5)\n",
    "shifted_image_left = shift_image(image, -5, 0)\n",
    "\n",
    "plt.figure(figsize=(12,3))\n",
    "plt.subplot(131)\n",
    "plt.title(\"Original\", fontsize=14)\n",
    "plt.imshow(image.reshape(28, 28), interpolation=\"nearest\", cmap=\"Greys\")\n",
    "plt.subplot(132)\n",
    "plt.title(\"Shifted down\", fontsize=14)\n",
    "plt.imshow(shifted_image_down.reshape(28, 28), interpolation=\"nearest\", cmap=\"Greys\")\n",
    "plt.subplot(133)\n",
    "plt.title(\"Shifted left\", fontsize=14)\n",
    "plt.imshow(shifted_image_left.reshape(28, 28), interpolation=\"nearest\", cmap=\"Greys\")\n",
    "plt.show()"
   ]
  },
  {
   "cell_type": "code",
   "execution_count": 6,
   "metadata": {},
   "outputs": [
    {
     "name": "stdout",
     "output_type": "stream",
     "text": [
      "<class 'list'>\n",
      "224000 224000\n"
     ]
    }
   ],
   "source": [
    "X_train_augmented = [image for image in X_train]\n",
    "y_train_augmented = [label for label in y_train]\n",
    "print(X_train_augmented.__class__)\n",
    "x_train_aug=[]\n",
    "y_train_aug=[]\n",
    "\n",
    "for dx, dy in ((1, 0), (-1, 0), (0, 1), (0, -1)):\n",
    "    for image, label in zip(X_train.values, y_train):\n",
    "\n",
    "        x_train_aug.append(shift_image(image, dx, dy))\n",
    "        y_train_aug.append(label)\n",
    "\n",
    "\n",
    "print(len(x_train_aug), len(y_train_aug))\n",
    "\n"
   ]
  },
  {
   "cell_type": "code",
   "execution_count": 16,
   "metadata": {},
   "outputs": [
    {
     "name": "stdout",
     "output_type": "stream",
     "text": [
      "(56000, 784) (56000,)\n",
      "(56000, 784)\n",
      "[[0 0 0 ... 0 0 0]\n",
      " [0 0 0 ... 0 0 0]\n",
      " [0 0 0 ... 0 0 0]\n",
      " ...\n",
      " [0 0 0 ... 0 0 0]\n",
      " [0 0 0 ... 0 0 0]\n",
      " [0 0 0 ... 0 0 0]]\n"
     ]
    }
   ],
   "source": [
    "print(X_train.shape, y_train.shape)\n",
    "test = np.array(X_train)\n",
    "print(test.shape)\n",
    "print(test)"
   ]
  },
  {
   "cell_type": "code",
   "execution_count": 17,
   "metadata": {},
   "outputs": [
    {
     "name": "stdout",
     "output_type": "stream",
     "text": [
      "(280000, 784) (280000,)\n"
     ]
    }
   ],
   "source": [
    "X_train_augmented = np.array(x_train_aug)\n",
    "y_train_augmented = np.array(y_train_aug)\n",
    "x_train_aug = np.array(x_train_aug)\n",
    "y_train_aug = np.array(y_train_aug)\n",
    "\n",
    "\n",
    "x_train_aug_final = np.concatenate((X_train, x_train_aug), axis=0)\n",
    "y_train_aug_final = np.concatenate((y_train, y_train_aug), axis=0)\n",
    "\n",
    "print(x_train_aug_final.shape, y_train_aug_final.shape)"
   ]
  },
  {
   "cell_type": "code",
   "execution_count": 18,
   "metadata": {},
   "outputs": [],
   "source": [
    "shuffle_idx = np.random.permutation(len(x_train_aug_final))\n",
    "x_train_aug_final = x_train_aug_final[shuffle_idx]\n",
    "y_train_aug_final = y_train_aug_final[shuffle_idx]\n",
    "\n"
   ]
  },
  {
   "cell_type": "code",
   "execution_count": 19,
   "metadata": {},
   "outputs": [
    {
     "name": "stdout",
     "output_type": "stream",
     "text": [
      "Fitting 5 folds for each of 6 candidates, totalling 30 fits\n",
      "[CV 1/5] END ....n_neighbors=3, weights=uniform;, score=0.969 total time=   9.2s\n",
      "[CV 2/5] END ....n_neighbors=3, weights=uniform;, score=0.969 total time=   9.2s\n",
      "[CV 3/5] END ....n_neighbors=3, weights=uniform;, score=0.972 total time=   9.1s\n",
      "[CV 4/5] END ....n_neighbors=3, weights=uniform;, score=0.971 total time=   9.5s\n",
      "[CV 5/5] END ....n_neighbors=3, weights=uniform;, score=0.970 total time=   9.7s\n",
      "[CV 1/5] END ...n_neighbors=3, weights=distance;, score=0.971 total time=   9.5s\n",
      "[CV 2/5] END ...n_neighbors=3, weights=distance;, score=0.970 total time=   8.5s\n",
      "[CV 3/5] END ...n_neighbors=3, weights=distance;, score=0.973 total time=   8.4s\n",
      "[CV 4/5] END ...n_neighbors=3, weights=distance;, score=0.972 total time=   8.3s\n",
      "[CV 5/5] END ...n_neighbors=3, weights=distance;, score=0.971 total time=   8.9s\n",
      "[CV 1/5] END ....n_neighbors=4, weights=uniform;, score=0.967 total time=  11.7s\n",
      "[CV 2/5] END ....n_neighbors=4, weights=uniform;, score=0.970 total time=  11.5s\n",
      "[CV 3/5] END ....n_neighbors=4, weights=uniform;, score=0.969 total time=  11.0s\n",
      "[CV 4/5] END ....n_neighbors=4, weights=uniform;, score=0.969 total time=  10.7s\n",
      "[CV 5/5] END ....n_neighbors=4, weights=uniform;, score=0.967 total time=  11.1s\n",
      "[CV 1/5] END ...n_neighbors=4, weights=distance;, score=0.971 total time=  11.1s\n",
      "[CV 2/5] END ...n_neighbors=4, weights=distance;, score=0.973 total time=  11.4s\n",
      "[CV 3/5] END ...n_neighbors=4, weights=distance;, score=0.973 total time=  10.8s\n",
      "[CV 4/5] END ...n_neighbors=4, weights=distance;, score=0.972 total time=  10.9s\n",
      "[CV 5/5] END ...n_neighbors=4, weights=distance;, score=0.971 total time=  10.1s\n",
      "[CV 1/5] END ....n_neighbors=5, weights=uniform;, score=0.967 total time=  11.5s\n",
      "[CV 2/5] END ....n_neighbors=5, weights=uniform;, score=0.969 total time=  10.8s\n",
      "[CV 3/5] END ....n_neighbors=5, weights=uniform;, score=0.972 total time=  10.9s\n",
      "[CV 4/5] END ....n_neighbors=5, weights=uniform;, score=0.969 total time=  10.5s\n",
      "[CV 5/5] END ....n_neighbors=5, weights=uniform;, score=0.967 total time=  10.0s\n",
      "[CV 1/5] END ...n_neighbors=5, weights=distance;, score=0.968 total time=  10.7s\n",
      "[CV 2/5] END ...n_neighbors=5, weights=distance;, score=0.971 total time=  10.5s\n",
      "[CV 3/5] END ...n_neighbors=5, weights=distance;, score=0.973 total time=  10.0s\n",
      "[CV 4/5] END ...n_neighbors=5, weights=distance;, score=0.970 total time=  10.2s\n",
      "[CV 5/5] END ...n_neighbors=5, weights=distance;, score=0.968 total time=   9.5s\n"
     ]
    }
   ],
   "source": [
    "from sklearn.model_selection import GridSearchCV\n",
    "# finding the best parameter and training the model\n",
    "param_grid = [{'weights': [\"uniform\", \"distance\"], 'n_neighbors': [3, 4, 5]}]\n",
    "knn_clf = KNeighborsClassifier()\n",
    "grid_search = GridSearchCV(knn_clf, param_grid, cv=5, verbose=3)\n",
    "grid_search.fit(X_train, y_train)\n",
    "knn_clf = KNeighborsClassifier(**grid_search.best_params_)"
   ]
  },
  {
   "cell_type": "code",
   "execution_count": null,
   "metadata": {},
   "outputs": [],
   "source": [
    "# training the KNN classifier after finding the best parameters \n",
    "knn_clf.fit(x_train_aug_final, y_train_aug_final)"
   ]
  },
  {
   "cell_type": "code",
   "execution_count": null,
   "metadata": {},
   "outputs": [],
   "source": [
    "y_pred = knn_clf.predict(X_test)\n",
    "accuracy_score(y_test, y_pred)"
   ]
  }
 ],
 "metadata": {
  "kernelspec": {
   "display_name": "machine_learn_env",
   "language": "python",
   "name": "python3"
  },
  "language_info": {
   "codemirror_mode": {
    "name": "ipython",
    "version": 3
   },
   "file_extension": ".py",
   "mimetype": "text/x-python",
   "name": "python",
   "nbconvert_exporter": "python",
   "pygments_lexer": "ipython3",
   "version": "3.12.0"
  }
 },
 "nbformat": 4,
 "nbformat_minor": 2
}
